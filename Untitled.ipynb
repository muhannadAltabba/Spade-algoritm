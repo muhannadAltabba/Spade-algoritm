{
 "cells": [
  {
   "cell_type": "code",
   "execution_count": 1,
   "metadata": {},
   "outputs": [],
   "source": [
    "import pandas as pd"
   ]
  },
  {
   "cell_type": "code",
   "execution_count": 2,
   "metadata": {},
   "outputs": [],
   "source": [
    "df = pd.read_csv('paths_finished.tsv')"
   ]
  },
  {
   "cell_type": "code",
   "execution_count": 3,
   "metadata": {},
   "outputs": [
    {
     "data": {
      "text/html": [
       "<div>\n",
       "<style scoped>\n",
       "    .dataframe tbody tr th:only-of-type {\n",
       "        vertical-align: middle;\n",
       "    }\n",
       "\n",
       "    .dataframe tbody tr th {\n",
       "        vertical-align: top;\n",
       "    }\n",
       "\n",
       "    .dataframe thead th {\n",
       "        text-align: right;\n",
       "    }\n",
       "</style>\n",
       "<table border=\"1\" class=\"dataframe\">\n",
       "  <thead>\n",
       "    <tr style=\"text-align: right;\">\n",
       "      <th></th>\n",
       "      <th># Successful (i.e.</th>\n",
       "      <th>finished) Wikispeedia paths.</th>\n",
       "    </tr>\n",
       "  </thead>\n",
       "  <tbody>\n",
       "    <tr>\n",
       "      <th># Article names are URL-encoded; e.g.</th>\n",
       "      <td>in Java they can be decoded using java.net.UR...</td>\n",
       "      <td>\"UTF-8\").</td>\n",
       "    </tr>\n",
       "    <tr>\n",
       "      <th># Articles in a path are separated by \";\".</th>\n",
       "      <td>NaN</td>\n",
       "      <td>NaN</td>\n",
       "    </tr>\n",
       "    <tr>\n",
       "      <th># Back clicks are represented as \"&lt;\".</th>\n",
       "      <td>NaN</td>\n",
       "      <td>NaN</td>\n",
       "    </tr>\n",
       "    <tr>\n",
       "      <th># Ratings are optionally given by the user after finishing the game and range from 1 (\"easy\") to 5 (\"brutal\").</th>\n",
       "      <td>NaN</td>\n",
       "      <td>NaN</td>\n",
       "    </tr>\n",
       "    <tr>\n",
       "      <th># Missing ratings are represented as \"NULL\".</th>\n",
       "      <td>NaN</td>\n",
       "      <td>NaN</td>\n",
       "    </tr>\n",
       "    <tr>\n",
       "      <th># FORMAT:   hashedIpAddress   timestamp   durationInSec   path   rating</th>\n",
       "      <td>NaN</td>\n",
       "      <td>NaN</td>\n",
       "    </tr>\n",
       "    <tr>\n",
       "      <th>#</th>\n",
       "      <td>NaN</td>\n",
       "      <td>NaN</td>\n",
       "    </tr>\n",
       "    <tr>\n",
       "      <th># When publishing on this data set</th>\n",
       "      <td>please cite:</td>\n",
       "      <td>NaN</td>\n",
       "    </tr>\n",
       "    <tr>\n",
       "      <th># (1) Robert West and Jure Leskovec:</th>\n",
       "      <td>NaN</td>\n",
       "      <td>NaN</td>\n",
       "    </tr>\n",
       "    <tr>\n",
       "      <th>#     Human Wayfinding in Information Networks.</th>\n",
       "      <td>NaN</td>\n",
       "      <td>NaN</td>\n",
       "    </tr>\n",
       "  </tbody>\n",
       "</table>\n",
       "</div>"
      ],
      "text/plain": [
       "                                                                                   # Successful (i.e.  \\\n",
       "# Article names are URL-encoded; e.g.                in Java they can be decoded using java.net.UR...   \n",
       "# Articles in a path are separated by \";\".                                                        NaN   \n",
       "# Back clicks are represented as \"<\".                                                             NaN   \n",
       "# Ratings are optionally given by the user afte...                                                NaN   \n",
       "# Missing ratings are represented as \"NULL\".                                                      NaN   \n",
       "# FORMAT:   hashedIpAddress   timestamp   durat...                                                NaN   \n",
       "#                                                                                                 NaN   \n",
       "# When publishing on this data set                                                       please cite:   \n",
       "# (1) Robert West and Jure Leskovec:                                                              NaN   \n",
       "#     Human Wayfinding in Information Networks.                                                   NaN   \n",
       "\n",
       "                                                    finished) Wikispeedia paths.  \n",
       "# Article names are URL-encoded; e.g.                                  \"UTF-8\").  \n",
       "# Articles in a path are separated by \";\".                                   NaN  \n",
       "# Back clicks are represented as \"<\".                                        NaN  \n",
       "# Ratings are optionally given by the user afte...                           NaN  \n",
       "# Missing ratings are represented as \"NULL\".                                 NaN  \n",
       "# FORMAT:   hashedIpAddress   timestamp   durat...                           NaN  \n",
       "#                                                                            NaN  \n",
       "# When publishing on this data set                                           NaN  \n",
       "# (1) Robert West and Jure Leskovec:                                         NaN  \n",
       "#     Human Wayfinding in Information Networks.                              NaN  "
      ]
     },
     "execution_count": 3,
     "metadata": {},
     "output_type": "execute_result"
    }
   ],
   "source": [
    "df.head(10)"
   ]
  },
  {
   "cell_type": "code",
   "execution_count": 4,
   "metadata": {},
   "outputs": [
    {
     "ename": "NameError",
     "evalue": "name 'he' is not defined",
     "output_type": "error",
     "traceback": [
      "\u001b[1;31m---------------------------------------------------------------------------\u001b[0m",
      "\u001b[1;31mNameError\u001b[0m                                 Traceback (most recent call last)",
      "\u001b[1;32m<ipython-input-4-0f41ea47c017>\u001b[0m in \u001b[0;36m<module>\u001b[1;34m\u001b[0m\n\u001b[1;32m----> 1\u001b[1;33m \u001b[0mhe\u001b[0m\u001b[1;33m-\u001b[0m\u001b[0mIL\u001b[0m\u001b[1;33m\u001b[0m\u001b[1;33m\u001b[0m\u001b[0m\n\u001b[0m",
      "\u001b[1;31mNameError\u001b[0m: name 'he' is not defined"
     ]
    }
   ],
   "source": []
  },
  {
   "cell_type": "code",
   "execution_count": null,
   "metadata": {},
   "outputs": [],
   "source": []
  }
 ],
 "metadata": {
  "kernelspec": {
   "display_name": "Python 3",
   "language": "python",
   "name": "python3"
  },
  "language_info": {
   "codemirror_mode": {
    "name": "ipython",
    "version": 3
   },
   "file_extension": ".py",
   "mimetype": "text/x-python",
   "name": "python",
   "nbconvert_exporter": "python",
   "pygments_lexer": "ipython3",
   "version": "3.7.6"
  }
 },
 "nbformat": 4,
 "nbformat_minor": 4
}
